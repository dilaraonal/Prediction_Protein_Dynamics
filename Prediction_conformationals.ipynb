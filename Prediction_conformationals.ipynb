{
 "cells": [
  {
   "cell_type": "markdown",
   "id": "0c08402b-dc55-42c7-b0f5-e95702fc621f",
   "metadata": {},
   "source": [
    "### **INTRODUCTION**"
   ]
  },
  {
   "cell_type": "markdown",
   "id": "0219d57e-d56f-4d4d-bf06-425a11ce7da5",
   "metadata": {},
   "source": [
    "Proteins are macromolecules that help the regularization of our biological system. They affect several pathways in our body and generate many diseases protein problems. Because of this understanding of protein structure and functions is important for creating treatments. Proteins have specific 3D structures and they are dynamic. Experimental methods such as NMR (Nuclear Magnetic Resonance) and SAXS (Small-Angle X-ray Scattering) were first used to analyze the structures of proteins. NMR provides information about protein structure by examining the resonance behavior of atomic nuclei under magnetic fields. In general, the magnetic properties of nuclei such as hydrogen, carbon, and nitrogen in proteins are used. SAXS provides information about the general shape and size of proteins in solution. When the protein is exposed to X-rays, the intensity of the scattered rays at small angles is measured. These methods have certain limitations and disadvantages such as high cost, difficulty in data analysis in large-sized proteins, and technical complexities. \n",
    "\n",
    "Simulations were used for the dynamic properties of the obtained 3D structures (Molecular Dynamics simulations), these simulations calculated the new positions of the atoms by taking the distances and movements of each other as reference with physical calculations and created the movements of the protein as a result of these calculations. However, this method also had disadvantages in terms of cost and time. In recent years, the developing field of artificial intelligence has produced developments that are solutions to these problems. The artificial intelligence system alphafold developed by DeepMind has made a great impact in the scientific world by managing to predict the three-dimensional structure of proteins from the amino acid sequence. With alphafold, a deep learning model, specific 3D structures of proteins could be created without using costly techniques. With these developments, current studies have accelerated research to predict the dynamic structures of proteins using artificial intelligence. In the few studies conducted in this field, the coordinate data obtained with md simulations were selected as the data source required for the training of the deep learning model. As a solution to the cost of working and long-term formations of MD simulations, it would be sufficient for the simulation to produce data short enough for the training of the model. This field is quite new in the literature and there are methods that are produced quite quickly. In this study, an variational autoencoder (VAE) model training was performed with the obtained md simulation data and the results were analyzed to examine how successful it was for dynamic structure estimation."
   ]
  },
  {
   "cell_type": "code",
   "execution_count": 2,
   "id": "ba3537d2-c34b-41c7-af5a-547e295afdfd",
   "metadata": {},
   "outputs": [
    {
     "name": "stdout",
     "output_type": "stream",
     "text": [
      "1 Physical GPUs, 1 Logical GPUs\n"
     ]
    }
   ],
   "source": [
    "import tensorflow as tf\n",
    "gpus = tf.config.list_physical_devices('GPU')\n",
    "if gpus:\n",
    "   try:\n",
    "     # Currently, memory growth needs to be the same across GPUs\n",
    "     for gpu in gpus:\n",
    "       tf.config.experimental.set_memory_growth(gpu, True)\n",
    "     logical_gpus = tf.config.list_logical_devices('GPU')\n",
    "     print(len(gpus), \"Physical GPUs,\", len(logical_gpus), \"Logical GPUs\")\n",
    "   except RuntimeError as e:\n",
    "     # Memory growth must be set before GPUs have been initialized\n",
    "     print(e)"
   ]
  },
  {
   "cell_type": "code",
   "execution_count": null,
   "id": "1b40e1b0-5df7-475e-9b42-b5214748f3f6",
   "metadata": {},
   "outputs": [],
   "source": [
    "import sys\n",
    "import time\n",
    "from copy import deepcopy\n",
    "import biobox as bb\n",
    "import numpy as np\n",
    "from keras import backend as K\n",
    "from keras.layers import Input, Dense, Lambda\n",
    "from keras.models import Model\n",
    "from scipy import stats\n",
    "from sklearn.preprocessing import MinMaxScaler\n",
    "from keras.optimizers import Adam\n",
    "from keras.layers import Dropout, BatchNormalization\n",
    "from keras import regularizers\n",
    "import MDAnalysis as mda\n",
    "from MDAnalysis.coordinates import PDB\n",
    "import matplotlib.pyplot as plt\n",
    "from keras.callbacks import EarlyStopping"
   ]
  },
  {
   "cell_type": "markdown",
   "id": "b45371f6-2474-4fbb-896d-83b54370cfe2",
   "metadata": {},
   "source": [
    "The Atlas website (https://www.dsimb.inserm.fr/ATLAS) is a database containing MD simulation data for many proteins. 3 proteins were selected from this database for the study. Model training was performed using 10,000 frames of data obtained from the simulation of each protein. \n",
    "- The first protein, **Non Structural protein 1**, is a protein that plays a critical role in the replication and pathogenesis of influenza A virus. This protein suppresses the immune response of the host cell.\n",
    "- The second protein, **Metallocarboxypeptidase inhibitor** acts as an inhibitor of metallocarboxypeptidase enzymes. This protein provides controlled degradation of peptides.\n",
    "- The third protein, **Rubredoxin** is a small iron-sulfur protein found in microorganisms such as anaerobic bacteria and archaea. It plays a role in electron transfer processes.\n",
    "\n",
    "\n",
    "The main reasons for choosing these 3 proteins are their small size and the fundamental differences in their structures. The first protein has 3 alpha helices, the second protein has 4 beta sheets, and the third protein has both an alpha helix and a beta sheet. I chose these three proteins because my model could be tested in structures with different properties. Alpha helices and beta sheet are structure features fro protein in 3D dimension.\n"
   ]
  },
  {
   "cell_type": "markdown",
   "id": "d35ea455-494e-42aa-aacf-c6bff56cca72",
   "metadata": {},
   "source": [
    "### **METHODS**"
   ]
  },
  {
   "cell_type": "markdown",
   "id": "4be158a5-60e2-4659-a702-7707f18aedb3",
   "metadata": {},
   "source": [
    "### **Data Preprocessing**\n",
    "\n",
    "1. Convert **pdf** Format Topology and Trajectory Files\n",
    "2. Atom Selecting\n",
    "3. Alignment\n",
    "4. Split Data for Train and Test"
   ]
  },
  {
   "cell_type": "markdown",
   "id": "a1c6e394-aee3-435a-b8f6-4398af451160",
   "metadata": {},
   "source": [
    "MDAnalysis library is a fundamental structure used to represent all the data from molecular dynamics (MD) simulation, including atoms, bonds, molecules, and trajectories.\n",
    "\n",
    "The Universe class reads simulation files and organizes the atomic details and time-series data into a structure that can be easily analyzed.\n"
   ]
  },
  {
   "cell_type": "code",
   "execution_count": 4,
   "id": "14bbb76b-d6a7-4750-882c-dadec9d735b7",
   "metadata": {},
   "outputs": [],
   "source": [
    "def convert_pdb_file(xtc_file, topology_file):\n",
    "    #creating a universe with topology and trajectory files, Convert format of xtc to pdb \n",
    "    pdb_file = \"protein.pdb\"\n",
    "    u = mda.Universe(topology_file, xtc_file)\n",
    "    # each model save in pdb files with used universe class\n",
    "    with mda.Writer(pdb_file, u.atoms.n_atoms) as writer:\n",
    "        for ts in u.trajectory:  \n",
    "            writer.write(u.atoms) \n",
    "    return pdb_file"
   ]
  },
  {
   "cell_type": "markdown",
   "id": "7caeeff0-e5d9-4850-92d5-8f4a06789197",
   "metadata": {},
   "source": [
    "The biobox library used structural biology for analyzing PDB files, visualization of sequence properties etc. Atoms filtered because of reduction dimension of data. These atom selected because they are represent backbone of protein and enough for structure dynamics properties. "
   ]
  },
  {
   "cell_type": "code",
   "execution_count": 5,
   "id": "435f4e1b-30c7-4a80-843b-dbe73ef142ab",
   "metadata": {},
   "outputs": [],
   "source": [
    "def atom_select(file):\n",
    "    #provide access to molecular structure  properties\n",
    "    M = bb.Molecule()\n",
    "    #pdb files to create molecular objects\n",
    "    M.import_pdb(file)\n",
    "    #filtered the atoms \n",
    "    idx = M.atomselect(\"*\", \"*\", [\"N\", \"CA\", \"C\", \"O\"], get_index=True)[1]\n",
    "    #retrieves the atomic coordinates\n",
    "    crds = M.coordinates[:, idx]\n",
    "    print(\"> molecule has %s conformations\" % M.coordinates.shape[0])\n",
    "    print(\"> selected %s atoms\" % len(idx))\n",
    "    return M , crds"
   ]
  },
  {
   "cell_type": "markdown",
   "id": "4a8e8986-8caa-444c-9edc-5007dc0cb7ca",
   "metadata": {},
   "source": [
    "Alignment is necessary to ensure accurate analysis of structural properties and meaningful comparisons of conformations.\n",
    "Without alignment, RMSD calculations may be dominated by the molecule's translation or rotation, rather than actual conformational changes."
   ]
  },
  {
   "cell_type": "code",
   "execution_count": 6,
   "id": "603ea4bc-d063-47e7-8ce7-ab9594fa67e4",
   "metadata": {},
   "outputs": [],
   "source": [
    "def align(M, filename):\n",
    "    align_pdb = \"protein.aligned.pdb\"\n",
    "    idx1 = M.atomselect(\"*\", \"*\", \"CA\", get_index=True)[1]\n",
    "    #calculate the RMSD between structure and all frames in a file\n",
    "    M.rmsd_one_vs_all(0, points_index=idx1, align=True)\n",
    "    for pos in range(len(M.coordinates)):\n",
    "        M.set_current(pos) # sets a spesific trajectory frame as the current frame.\n",
    "        M.center_to_origin() #centers molecular structure at the origin for alignment\n",
    "    M.set_current(0)\n",
    "    M.write_pdb(\"%s\" % filename.replace(\".pdb\", \".aligned.pdb\"))\n",
    "    return M , align_pdb"
   ]
  },
  {
   "cell_type": "markdown",
   "id": "bac8d615-e04a-4730-ad59-485396f3cf4e",
   "metadata": {},
   "source": [
    "**deepcopy()** function provides a robust approach when preparing datasets for deep learning where reshaping and transformations and prevent accidental modifications to the original **crds** (an array representing molecular coordinates) array.\n",
    "\n",
    "**%30 train data** \n",
    "\n",
    "**%70 test data**"
   ]
  },
  {
   "cell_type": "code",
   "execution_count": 7,
   "id": "1dd1f468-fab1-43b0-a6f7-6e933bdfc021",
   "metadata": {},
   "outputs": [],
   "source": [
    "def train_test_data(M, crds):\n",
    "    # split data for train and test data\n",
    "\n",
    "    indicestrain = np.arange(0, int(0.3 * M.coordinates.shape[0]), 1) #\n",
    "    indicestest = np.arange(int(0.3 * M.coordinates.shape[0]), M.coordinates.shape[0], 1)\n",
    "    # train and test dataset generated\n",
    "    #create a deep copy of selected subset to avoid unintended modifications to the original data\n",
    "    x_train = deepcopy(crds[indicestrain])\n",
    "    x_train = x_train.reshape(x_train.shape[0], np.prod(x_train.shape[1:]))\n",
    "    #train data shape: (frames, atoms*dimensions)\n",
    "    x_test = deepcopy(crds[indicestest])\n",
    "    x_test = x_test.reshape(x_test.shape[0], np.prod(x_test.shape[1:]))\n",
    "    return x_train, x_test "
   ]
  },
  {
   "cell_type": "markdown",
   "id": "3f3bf31b-c296-44c0-8670-4ac40295d0eb",
   "metadata": {},
   "source": [
    "#### Load to prepared files for deep learning model\n",
    "1. Save and Load Data\n",
    "2. Scalling and Normalization\n",
    "3. Data Augmentation"
   ]
  },
  {
   "cell_type": "markdown",
   "id": "74b43533-09c1-438d-9f07-3047d2754b22",
   "metadata": {},
   "source": [
    "Save the train and test data with dat format because dat extension is generic and can store a variety of data types and is well-suited for deep learning workflows it can be read easily by python.\n"
   ]
  },
  {
   "cell_type": "code",
   "execution_count": 8,
   "id": "addf15ff-7d98-4509-a04d-a90af233f001",
   "metadata": {},
   "outputs": [],
   "source": [
    "def save_load_data(filename, x_train, x_test):\n",
    "    x_train_file = filename.replace(\".pdb\", \"_train.dat\")\n",
    "    x_test_file = filename.replace(\".pdb\", \"_test.dat\")\n",
    "    \n",
    "    np.savetxt(x_train_file, x_train)\n",
    "    np.savetxt(x_test_file, x_test)\n",
    "    \n",
    "    x_train_orig = np.loadtxt(x_train_file)\n",
    "    x_test_orig = np.loadtxt(x_test_file)\n",
    "    return x_train_orig, x_test_orig"
   ]
  },
  {
   "cell_type": "code",
   "execution_count": 9,
   "id": "ec034452-c556-44fb-a54d-b88062d1be0f",
   "metadata": {},
   "outputs": [],
   "source": [
    "def scalling_normalization(x_train, x_test):\n",
    "    #Normalization step for scaling the values\n",
    "    scaler = MinMaxScaler(feature_range=(0, 1))\n",
    "    x_train_scale = scaler.fit_transform(x_train)\n",
    "    x_test_scale = scaler.transform(x_test)\n",
    "    return x_train_scale, x_test_scale \n",
    "    "
   ]
  },
  {
   "cell_type": "markdown",
   "id": "766a7639-bf1a-4fd3-be1e-e2bd231a2365",
   "metadata": {},
   "source": [
    "Data Augmentation is technique in deep learning for enhancing the performance and robustness of model. It helps prevent overfitting and generated model generalize to unseen data."
   ]
  },
  {
   "cell_type": "code",
   "execution_count": 10,
   "id": "47f730af-3e15-4de1-924b-3f7e6078ea08",
   "metadata": {},
   "outputs": [],
   "source": [
    "def data_augmentation(x_train_scale, noise):\n",
    "    noise_xtrain = x_train_scale + noise * np.random.normal(loc=0.0, scale=1.0, size=x_train_scale.shape)\n",
    "    noise_xtrain = np.clip(noise_xtrain, 0., 1.)\n",
    "    return noise_xtrain"
   ]
  },
  {
   "cell_type": "markdown",
   "id": "029de1bf-7525-4459-92a8-01d6e39e18b3",
   "metadata": {},
   "source": [
    "#### Deep Learning Model\n",
    "1. Variational Autoencoder (VAE) model\n",
    "2. Model Training\n",
    "3. Loss Values \n",
    "4. Recounstruction"
   ]
  },
  {
   "cell_type": "markdown",
   "id": "03801dfa-ba55-485c-bf20-a80e737162c3",
   "metadata": {},
   "source": [
    "##### Variational Autoencoder (VAE) Model"
   ]
  },
  {
   "cell_type": "code",
   "execution_count": 25,
   "id": "60f460d1-ff33-4400-afd8-d9734d775dec",
   "metadata": {},
   "outputs": [],
   "source": [
    "def vae_structure(x_train, encoding_dim):\n",
    "    # encoder\n",
    "    input_prot = Input(shape=(x_train.shape[1],))\n",
    "\n",
    "    encoded = Dense(512, activation = 'relu') (input_prot)\n",
    "    encoded = Dense(256, activation='relu')(encoded)\n",
    "    encoded = BatchNormalization() (encoded) #Normalizes output for each mini-batch to have a mean of 0 and a variance of 1.\n",
    "    encoded = Dropout(0.3)(encoded)  # neurons are dropped with a specific probability \n",
    "    encoded = Dense(64, activation='relu', kernel_regularizer = regularizers.l2(0.01))(encoded)#adds an L2 penalty to the loss function\n",
    "    encoded = Dropout(0.2)(encoded) \n",
    "    encoded = Dense(16, activation = 'relu')(encoded)\n",
    "    #outputs the mean of the latent distribution\n",
    "    encode_mean = Dense(encoding_dim)(encoded)\n",
    "    #outputs the logarithm of the variance of the latent distribution \n",
    "    encode_log_var = Dense(encoding_dim)(encoded)\n",
    "    #uses mean and variance to sample from the latent space using reparameterization trick\n",
    "    sample = Lambda(sampling, name='sampling')([encode_mean, encode_log_var])\n",
    "    \n",
    "    encoder = Model(input_prot, sample)\n",
    "\n",
    "    #decoder\n",
    "    decoded = Dense(16, activation='relu')(sample)\n",
    "    decoded = Dense(64, activation='relu')(decoded)\n",
    "    decoded = Dense(256, activation='relu')(decoded)\n",
    "    decoded = Dense(512, activation='relu')(decoded)\n",
    "    decoded = Dense(x_train.shape[1], activation='sigmoid')(decoded)\n",
    "\n",
    "    sampling_model = Model(input_prot, decoded)\n",
    "\n",
    "    # define loss, optimizer\n",
    "    #Reconstruction Loss\n",
    "    msle = tf.keras.losses.MeanSquaredLogarithmicError()\n",
    "    xent_loss = K.mean(msle(input_prot, decoded))\n",
    "    \n",
    "    #KL divergence loss\n",
    "    kl_loss = -1e-3 * K.mean(1 + encode_log_var - K.square(encode_mean) - K.exp(encode_log_var))\n",
    "    vae_loss = K.mean(xent_loss +  kl_loss)  \n",
    "\n",
    "    sampling_model.add_loss(vae_loss)\n",
    "\n",
    "    adam = Adam(learning_rate=0.0005)\n",
    "    sampling_model.compile(optimizer=adam, metrics='mean_squared_error')\n",
    "\n",
    "    return encoder, sampling_model"
   ]
  },
  {
   "cell_type": "markdown",
   "id": "84de5dda-da69-4027-b7c8-1955ecf98fe6",
   "metadata": {},
   "source": [
    "**Reparameterization Trick**\n",
    "\n",
    "Separating the stochastic component from deterministic components. This allows the network to learn meaningful latent space representations through gradient updates."
   ]
  },
  {
   "cell_type": "code",
   "execution_count": 12,
   "id": "81872d9a-e7be-4a2f-beae-ce23227b1d30",
   "metadata": {},
   "outputs": [],
   "source": [
    "def sampling(arg):\n",
    "    mean = arg[0] \n",
    "    logvar = arg[1]\n",
    "    epsilon = K.random_normal(shape=K.shape(mean), mean=0.5, stddev=1.) #generate random noise\n",
    "    return mean + K.exp(0.5 * logvar) * epsilon"
   ]
  },
  {
   "cell_type": "markdown",
   "id": "6a090d77-0e78-481e-8ab2-eb26cf8d2d12",
   "metadata": {},
   "source": [
    "##### Model Training"
   ]
  },
  {
   "cell_type": "code",
   "execution_count": 13,
   "id": "6b0bfbf2-cda0-4fa3-a737-f289117d5726",
   "metadata": {},
   "outputs": [],
   "source": [
    "\n",
    "def model_training(Batch_size, epochs, xtrain, xtest):\n",
    "    integral_model = vae_structure(xtrain, 4)\n",
    "    encoder = integral_model[0]\n",
    "    sampling_model = integral_model[1]\n",
    "    \n",
    "    #adding early stopping that means stops training when validation performance stops improving\n",
    "    early_stopping = EarlyStopping(monitor='val_loss', patience=10, restore_best_weights=True)\n",
    "    \n",
    "    history = sampling_model.fit(\n",
    "        xtrain, xtrain,\n",
    "        epochs=epochs,\n",
    "        batch_size=Batch_size,\n",
    "        shuffle=True,\n",
    "        validation_data=(xtest, xtest),\n",
    "        callbacks=[early_stopping]\n",
    "    )\n",
    "    return history , sampling_model"
   ]
  },
  {
   "cell_type": "markdown",
   "id": "03464e3e-4d3f-4ca6-8ce4-4d2f2c4c100d",
   "metadata": {},
   "source": [
    "##### Loss Values "
   ]
  },
  {
   "cell_type": "code",
   "execution_count": 14,
   "id": "69b17b3d-5b49-4fd9-942f-6369a01356a4",
   "metadata": {},
   "outputs": [],
   "source": [
    "def plot_results(history):\n",
    "     # plot for training nd validation loss\n",
    "    plt.plot(history.history['loss'], label='Training Loss')\n",
    "    plt.plot(history.history['val_loss'], label='Validation Loss')\n",
    "    plt.xlabel('Epoch')\n",
    "    plt.ylabel('Loss')\n",
    "    plt.legend()\n",
    "    plt.show()\n",
    "    "
   ]
  },
  {
   "cell_type": "markdown",
   "id": "bdabd4ae-29ee-40b2-b8d6-350d9cbe2384",
   "metadata": {},
   "source": [
    "##### Recounstruction"
   ]
  },
  {
   "cell_type": "code",
   "execution_count": 15,
   "id": "1b0343d0-7427-489d-94c6-ad9a769461b7",
   "metadata": {},
   "outputs": [],
   "source": [
    "def reconstruct(noise_xtrain, x_test_scale ,model, x_train_orig, x_test_orig):\n",
    "    scaler = MinMaxScaler(feature_range=(0, 1))\n",
    "    noise_xtrain = scaler.fit_transform(x_train_orig) #scaling the data\n",
    "    rc_train = model.predict(noise_xtrain) #predict with used model for train data\n",
    "    reconstruct_train = scaler.inverse_transform(rc_train) # reconstructing original data range\n",
    "    decoded_reshaped_train = reconstruct_train.reshape(reconstruct_train.shape[0],\n",
    "                                                        int(reconstruct_train.shape[1] / 3), 3) # 3Dimension shape \n",
    "    \n",
    "    x_test_scale = scaler.fit_transform(x_test_orig)\n",
    "    rc_test = model.predict(x_test_scale) #predict with test data\n",
    "    reconstruct_test = scaler.inverse_transform(rc_test)\n",
    "    decoded_reshaped_test = reconstruct_test.reshape(reconstruct_test.shape[0], int(reconstruct_test.shape[1] / 3), 3)\n",
    "    return decoded_reshaped_train,reconstruct_train, decoded_reshaped_test, reconstruct_test"
   ]
  },
  {
   "cell_type": "markdown",
   "id": "f2c5e7b0-a3f0-4973-8265-77cdadbe3ec4",
   "metadata": {},
   "source": [
    "### Analyzing Results\n",
    "1. Spearman Correlation\n",
    "2. Generating Structure\n",
    "3. RMSD (Root Mean Squared Deviation)\n",
    "4. Box Plot"
   ]
  },
  {
   "cell_type": "markdown",
   "id": "ef46f53f-efbc-4d74-99a5-4ab70c305763",
   "metadata": {},
   "source": [
    "##### Spearman Correlation Coefficient"
   ]
  },
  {
   "cell_type": "markdown",
   "id": "74fce9f9-57f0-4cf9-b37f-980c17b52236",
   "metadata": {},
   "source": [
    "The performance of the Spearman correlation coefficient values was analyzed on both the training and test sets for each protein. The sequential relationships of the protein structures generated by the model were compared with the original structures."
   ]
  },
  {
   "cell_type": "code",
   "execution_count": 16,
   "id": "277a0555-02d9-4787-ba40-75dd80bc38ee",
   "metadata": {},
   "outputs": [],
   "source": [
    "#Spearman rank correlation coefficient\n",
    "def spearman_corr(y_true, y_pred):\n",
    "    sprm = 0\n",
    "    for i in range(y_true.shape[0]):\n",
    "        sprm += stats.spearmanr(y_true[i], y_pred[i])[0]\n",
    "    sprm = sprm / y_true.shape[0]\n",
    "    return sprm"
   ]
  },
  {
   "cell_type": "code",
   "execution_count": 17,
   "id": "6463ce41-0005-45bd-8f1f-0f28ad1167ef",
   "metadata": {},
   "outputs": [],
   "source": [
    "def spearman_corr_each_example(y_true, y_pred):\n",
    "    correlation_coeffs = []\n",
    "    for i in range(y_true.shape[0]):\n",
    "        corr, _ = stats.spearmanr(y_true[i], y_pred[i])  # Korelasyonu hesapla\n",
    "        correlation_coeffs.append(corr)  # Korelasyonu listeye ekle\n",
    "    return correlation_coeffs\n"
   ]
  },
  {
   "cell_type": "markdown",
   "id": "ad60e1ec-0b2b-4b84-aab6-7ad85da9e0cd",
   "metadata": {},
   "source": [
    "##### Generate PDB file that contains reconstructed of protein"
   ]
  },
  {
   "cell_type": "code",
   "execution_count": 19,
   "id": "84f5edfb-9c40-4e4c-aab8-45d3e6e4899c",
   "metadata": {},
   "outputs": [],
   "source": [
    "def generate_pdb(filename, decoded_reshaped_test, M):\n",
    "        \n",
    "    M2 = bb.Molecule() #create molecule object\n",
    "    M2.import_pdb(filename)\n",
    "    idx2 = M.atomselect(\"*\", \"*\", [\"N\", \"CA\", \"C\", \"O\"], get_index=True)[1] #select atoms\n",
    "    \n",
    "    M3 = M.get_subset(idxs=idx2, conformations=[0]) #subset of molecule\n",
    "    M3.coordinates = decoded_reshaped_test #assign reconstructed coordinates\n",
    "    M3.write_pdb(\"%s\" % filename.replace(\".pdb\", \".generated.pdb\")) #write new pdb file\n"
   ]
  },
  {
   "cell_type": "markdown",
   "id": "557c8924-fce4-42c8-8e2e-c1cd99baf898",
   "metadata": {},
   "source": [
    "##### RMSD calculation\n",
    "RMSD (Root Mean Squared) calculate how similar the conformations of two sets of molecular structures are,, by computing the RMSD between the corresponding atomic cooordinates."
   ]
  },
  {
   "cell_type": "code",
   "execution_count": 45,
   "id": "b8d9986b-82ac-41f0-b65d-b3632d99555e",
   "metadata": {},
   "outputs": [],
   "source": [
    "import os\n",
    "from copy import deepcopy\n",
    "import biobox as bb\n",
    "import numpy as np\n",
    "\n",
    "def RMSD_calculation(filename, output_filename):\n",
    "    def cal_rmsd(input_data, output, test_size):\n",
    "        test = deepcopy(input_data)  # The original dataset\n",
    "        examine = deepcopy(output)  # The generated dataset\n",
    "        rmsd_values = []\n",
    "\n",
    "        for j in range(0, test_size):\n",
    "            test.add_xyz(examine[j])  # Add the generated structure to the test set\n",
    "        \n",
    "        for i in range(0, test_size, 3):\n",
    "            for j in range(0, test_size, 3):\n",
    "                val = test.rmsd(i, test_size + j)  # Calculate RMSD between structures\n",
    "                rmsd_values.append(val)\n",
    "        \n",
    "        return rmsd_values\n",
    "\n",
    "    # Load original PDB file and select atoms\n",
    "    M = bb.Molecule()\n",
    "    M.import_pdb(f\"{filename.replace('.pdb', '.aligned.pdb')}\")\n",
    "    idx = M.atomselect(\"*\", \"*\", [\"N\", \"CA\", \"C\", \"O\"], get_index=True)[1]\n",
    "    crds = M.coordinates[:, idx]\n",
    "    indices = np.random.permutation(len(crds))\n",
    "\n",
    "    # Split dataset for train/test\n",
    "    split_index = int(float(0.3) * len(indices))\n",
    "    indicestest = np.sort(indices[split_index:])  # Select test set conformations\n",
    "    M2 = M.get_subset(idxs=idx, conformations=indicestest)\n",
    "\n",
    "    # Load generated structure and select atoms\n",
    "    M1 = bb.Molecule()\n",
    "    M1.import_pdb(f\"{filename.replace('.pdb', '.aligned.generated.pdb')}\")\n",
    "    idx = M1.atomselect(\"*\", \"*\", [\"N\", \"CA\", \"C\", \"O\"], get_index=True)[1]\n",
    "    M3 = M1.get_subset(idxs=idx)\n",
    "\n",
    "    # Calculate RMSD\n",
    "    test_size = len(M.coordinates) - split_index\n",
    "    comp_test = cal_rmsd(M2, M3, test_size)\n",
    "    comp_test = np.array(comp_test)\n",
    "\n",
    "    # Print the average RMSD\n",
    "    print(\"> Average RMSD: %.3f Å\" % np.mean(comp_test))\n",
    "\n",
    "    # Save RMSD values to the current working directory\n",
    "    output_path = os.path.join(os.getcwd(), output_filename)\n",
    "    np.savetxt(output_path, comp_test)\n",
    "    print(f\"RMSD values saved to: {output_path}\")\n",
    "\n",
    "    return output_path\n"
   ]
  },
  {
   "cell_type": "markdown",
   "id": "5074a8a2-b524-463f-86f7-4fd3b1ea8f17",
   "metadata": {},
   "source": [
    "Box plot shows RMSD values that calculated for each protein between original structure and generated structure."
   ]
  },
  {
   "cell_type": "code",
   "execution_count": 2,
   "id": "093b0855-3914-4562-b293-cf9e9f75d997",
   "metadata": {},
   "outputs": [],
   "source": [
    "def box_plot(rmsd_1, rmsd_2, rmsd_3, lab1, lab2, lab3):\n",
    "    plt.boxplot([rmsd_1, rmsd_2, rmsd_3], labels=[lab1, lab2, lab3])\n",
    "\n",
    "    plt.title(\"RMSD Values Between Generated and Original Structure\")\n",
    "    plt.xlabel(\"Protein ID\")\n",
    "    plt.ylabel(\"RMSD Values\")\n",
    "    \n",
    "    plt.show()"
   ]
  },
  {
   "cell_type": "markdown",
   "id": "64e5f5e3-deb6-4d30-a30c-92e7a1380b01",
   "metadata": {},
   "source": [
    "### **RESULTS**"
   ]
  },
  {
   "cell_type": "markdown",
   "id": "cf362721-72b8-44ae-a7c8-2a59a270c562",
   "metadata": {},
   "source": [
    "## **1AIL** "
   ]
  },
  {
   "cell_type": "code",
   "execution_count": 3,
   "id": "eacdbc35-4b87-4ef0-9f83-be308e188a2e",
   "metadata": {},
   "outputs": [
    {
     "name": "stdout",
     "output_type": "stream",
     "text": [
      "Current working directory: C:\\Users\\90535\\proteins\\1AIL\n"
     ]
    }
   ],
   "source": [
    "new_directory_1AIL = \"C://Users//90535//proteins//1AIL\"\n",
    "\n",
    "os.chdir(new_directory_1AIL)\n",
    "\n",
    "print(\"Current working directory:\", os.getcwd())\n"
   ]
  },
  {
   "cell_type": "code",
   "execution_count": 22,
   "id": "7b5e1137-6fc4-42a7-8f18-09ca3a526d73",
   "metadata": {},
   "outputs": [],
   "source": [
    "pdb_file_1AIL = convert_pdb_file(\"1ail_A_prod_R1_fit.xtc\", \"1ail_A.pdb\")"
   ]
  },
  {
   "cell_type": "code",
   "execution_count": 23,
   "id": "625d0146-b8e2-4c26-9187-cb0f073235b8",
   "metadata": {},
   "outputs": [
    {
     "name": "stdout",
     "output_type": "stream",
     "text": [
      "> molecule has 10001 conformations\n",
      "> selected 291 atoms\n",
      "> align conformations ...\n",
      "  alignment completed, takes 3950.09 s\n"
     ]
    }
   ],
   "source": [
    "M1, crds_1AIL = atom_select(pdb_file_1AIL)\n",
    "#aligning \n",
    "print(\"> align conformations ...\")\n",
    "time0 = time.time()\n",
    "M_1AIL, align_pdb_1AIL = align(M1, pdb_file_1AIL)\n",
    "print(\"  alignment completed, takes %.2f s\" % (time.time()-time0))"
   ]
  },
  {
   "cell_type": "code",
   "execution_count": 24,
   "id": "a7005d3d-e762-4b70-811b-16a198a60a88",
   "metadata": {},
   "outputs": [],
   "source": [
    "x_train_1AIL, x_test_1AIL = train_test_data(M_1AIL,crds_1AIL)\n",
    "x_train_orig_1AIL, x_test_orig_1AIL = save_load_data(align_pdb_1AIL, x_train_1AIL, x_test_1AIL)\n",
    "x_train_scale_1AIL, x_test_scale_1AIL = scalling_normalization(x_train_orig_1AIL, x_test_orig_1AIL)\n",
    "noise_xtrain_1AIL = data_augmentation(x_train_scale_1AIL, 0.01)"
   ]
  },
  {
   "cell_type": "code",
   "execution_count": 27,
   "id": "213e0c48-f455-4451-a5de-e8acf4ab5ff7",
   "metadata": {
    "scrolled": true
   },
   "outputs": [
    {
     "name": "stdout",
     "output_type": "stream",
     "text": [
      "Epoch 1/300\n",
      "94/94 [==============================] - 7s 46ms/step - loss: 0.6496 - mean_squared_error: 0.0246 - val_loss: 0.3658 - val_mean_squared_error: 0.0532\n",
      "Epoch 2/300\n",
      "94/94 [==============================] - 3s 37ms/step - loss: 0.2089 - mean_squared_error: 0.0199 - val_loss: 0.1200 - val_mean_squared_error: 0.0476\n",
      "Epoch 3/300\n",
      "94/94 [==============================] - 4s 38ms/step - loss: 0.0630 - mean_squared_error: 0.0185 - val_loss: 0.0447 - val_mean_squared_error: 0.0447\n",
      "Epoch 4/300\n",
      "94/94 [==============================] - 5s 49ms/step - loss: 0.0211 - mean_squared_error: 0.0177 - val_loss: 0.0244 - val_mean_squared_error: 0.0416\n",
      "Epoch 5/300\n",
      "94/94 [==============================] - 5s 50ms/step - loss: 0.0108 - mean_squared_error: 0.0165 - val_loss: 0.0189 - val_mean_squared_error: 0.0380\n",
      "Epoch 6/300\n",
      "94/94 [==============================] - 4s 42ms/step - loss: 0.0086 - mean_squared_error: 0.0157 - val_loss: 0.0180 - val_mean_squared_error: 0.0373\n",
      "Epoch 7/300\n",
      "94/94 [==============================] - 4s 43ms/step - loss: 0.0080 - mean_squared_error: 0.0149 - val_loss: 0.0169 - val_mean_squared_error: 0.0344\n",
      "Epoch 8/300\n",
      "94/94 [==============================] - 4s 40ms/step - loss: 0.0078 - mean_squared_error: 0.0143 - val_loss: 0.0165 - val_mean_squared_error: 0.0340\n",
      "Epoch 9/300\n",
      "94/94 [==============================] - 4s 38ms/step - loss: 0.0076 - mean_squared_error: 0.0138 - val_loss: 0.0164 - val_mean_squared_error: 0.0329\n",
      "Epoch 10/300\n",
      "94/94 [==============================] - 4s 38ms/step - loss: 0.0076 - mean_squared_error: 0.0135 - val_loss: 0.0167 - val_mean_squared_error: 0.0328\n",
      "Epoch 11/300\n",
      "94/94 [==============================] - 4s 39ms/step - loss: 0.0074 - mean_squared_error: 0.0132 - val_loss: 0.0153 - val_mean_squared_error: 0.0302\n",
      "Epoch 12/300\n",
      "94/94 [==============================] - 4s 40ms/step - loss: 0.0074 - mean_squared_error: 0.0131 - val_loss: 0.0153 - val_mean_squared_error: 0.0307\n",
      "Epoch 13/300\n",
      "94/94 [==============================] - 4s 40ms/step - loss: 0.0073 - mean_squared_error: 0.0129 - val_loss: 0.0156 - val_mean_squared_error: 0.0317\n",
      "Epoch 14/300\n",
      "94/94 [==============================] - 4s 39ms/step - loss: 0.0072 - mean_squared_error: 0.0127 - val_loss: 0.0155 - val_mean_squared_error: 0.0308\n",
      "Epoch 15/300\n",
      "94/94 [==============================] - 4s 40ms/step - loss: 0.0073 - mean_squared_error: 0.0128 - val_loss: 0.0154 - val_mean_squared_error: 0.0311\n",
      "Epoch 16/300\n",
      "94/94 [==============================] - 4s 41ms/step - loss: 0.0072 - mean_squared_error: 0.0125 - val_loss: 0.0156 - val_mean_squared_error: 0.0309\n",
      "Epoch 17/300\n",
      "94/94 [==============================] - 4s 44ms/step - loss: 0.0072 - mean_squared_error: 0.0125 - val_loss: 0.0157 - val_mean_squared_error: 0.0317\n",
      "Epoch 18/300\n",
      "94/94 [==============================] - 4s 42ms/step - loss: 0.0072 - mean_squared_error: 0.0125 - val_loss: 0.0155 - val_mean_squared_error: 0.0305\n",
      "Epoch 19/300\n",
      "94/94 [==============================] - 4s 43ms/step - loss: 0.0071 - mean_squared_error: 0.0124 - val_loss: 0.0152 - val_mean_squared_error: 0.0301\n",
      "Epoch 20/300\n",
      "94/94 [==============================] - 4s 41ms/step - loss: 0.0071 - mean_squared_error: 0.0123 - val_loss: 0.0164 - val_mean_squared_error: 0.0327\n",
      "Epoch 21/300\n",
      "94/94 [==============================] - 4s 42ms/step - loss: 0.0071 - mean_squared_error: 0.0123 - val_loss: 0.0157 - val_mean_squared_error: 0.0315\n",
      "Epoch 22/300\n",
      "94/94 [==============================] - 4s 42ms/step - loss: 0.0071 - mean_squared_error: 0.0124 - val_loss: 0.0158 - val_mean_squared_error: 0.0317\n",
      "Epoch 23/300\n",
      "94/94 [==============================] - 4s 45ms/step - loss: 0.0071 - mean_squared_error: 0.0123 - val_loss: 0.0150 - val_mean_squared_error: 0.0290\n",
      "Epoch 24/300\n",
      "94/94 [==============================] - 5s 53ms/step - loss: 0.0071 - mean_squared_error: 0.0123 - val_loss: 0.0150 - val_mean_squared_error: 0.0290\n",
      "Epoch 25/300\n",
      "94/94 [==============================] - 5s 52ms/step - loss: 0.0070 - mean_squared_error: 0.0120 - val_loss: 0.0155 - val_mean_squared_error: 0.0317\n",
      "Epoch 26/300\n",
      "94/94 [==============================] - 4s 48ms/step - loss: 0.0070 - mean_squared_error: 0.0121 - val_loss: 0.0150 - val_mean_squared_error: 0.0292\n",
      "Epoch 27/300\n",
      "94/94 [==============================] - 4s 48ms/step - loss: 0.0070 - mean_squared_error: 0.0121 - val_loss: 0.0150 - val_mean_squared_error: 0.0296\n",
      "Epoch 28/300\n",
      "94/94 [==============================] - 5s 51ms/step - loss: 0.0070 - mean_squared_error: 0.0121 - val_loss: 0.0152 - val_mean_squared_error: 0.0294\n",
      "Epoch 29/300\n",
      "94/94 [==============================] - 4s 46ms/step - loss: 0.0071 - mean_squared_error: 0.0121 - val_loss: 0.0160 - val_mean_squared_error: 0.0325\n",
      "Epoch 30/300\n",
      "94/94 [==============================] - 4s 47ms/step - loss: 0.0069 - mean_squared_error: 0.0120 - val_loss: 0.0150 - val_mean_squared_error: 0.0297\n",
      "Epoch 31/300\n",
      "94/94 [==============================] - 5s 51ms/step - loss: 0.0070 - mean_squared_error: 0.0120 - val_loss: 0.0152 - val_mean_squared_error: 0.0296\n",
      "Epoch 32/300\n",
      "94/94 [==============================] - 5s 51ms/step - loss: 0.0070 - mean_squared_error: 0.0120 - val_loss: 0.0156 - val_mean_squared_error: 0.0315\n",
      "Epoch 33/300\n",
      "94/94 [==============================] - 4s 44ms/step - loss: 0.0070 - mean_squared_error: 0.0121 - val_loss: 0.0153 - val_mean_squared_error: 0.0297\n",
      "Epoch 34/300\n",
      "94/94 [==============================] - 4s 45ms/step - loss: 0.0070 - mean_squared_error: 0.0121 - val_loss: 0.0149 - val_mean_squared_error: 0.0290\n",
      "Epoch 35/300\n",
      "94/94 [==============================] - 4s 43ms/step - loss: 0.0071 - mean_squared_error: 0.0122 - val_loss: 0.0154 - val_mean_squared_error: 0.0306\n",
      "Epoch 36/300\n",
      "94/94 [==============================] - 4s 44ms/step - loss: 0.0071 - mean_squared_error: 0.0121 - val_loss: 0.0153 - val_mean_squared_error: 0.0297\n",
      "Epoch 37/300\n",
      "94/94 [==============================] - 4s 42ms/step - loss: 0.0070 - mean_squared_error: 0.0120 - val_loss: 0.0151 - val_mean_squared_error: 0.0296\n",
      "Epoch 38/300\n",
      "94/94 [==============================] - 4s 42ms/step - loss: 0.0070 - mean_squared_error: 0.0119 - val_loss: 0.0152 - val_mean_squared_error: 0.0294\n",
      "Epoch 39/300\n",
      "94/94 [==============================] - 4s 41ms/step - loss: 0.0069 - mean_squared_error: 0.0119 - val_loss: 0.0150 - val_mean_squared_error: 0.0296\n",
      "Epoch 40/300\n",
      "94/94 [==============================] - 4s 41ms/step - loss: 0.0070 - mean_squared_error: 0.0120 - val_loss: 0.0159 - val_mean_squared_error: 0.0317\n",
      "Epoch 41/300\n",
      "94/94 [==============================] - 4s 40ms/step - loss: 0.0069 - mean_squared_error: 0.0119 - val_loss: 0.0150 - val_mean_squared_error: 0.0291\n",
      "Epoch 42/300\n",
      "94/94 [==============================] - 4s 39ms/step - loss: 0.0069 - mean_squared_error: 0.0119 - val_loss: 0.0156 - val_mean_squared_error: 0.0306\n",
      "Epoch 43/300\n",
      "94/94 [==============================] - 4s 38ms/step - loss: 0.0071 - mean_squared_error: 0.0121 - val_loss: 0.0154 - val_mean_squared_error: 0.0299\n",
      "Epoch 44/300\n",
      "94/94 [==============================] - 4s 39ms/step - loss: 0.0069 - mean_squared_error: 0.0118 - val_loss: 0.0151 - val_mean_squared_error: 0.0299\n"
     ]
    },
    {
     "data": {
      "image/png": "[encoded data removed]",
      "text/plain": [
       "<Figure size 640x480 with 1 Axes>"
      ]
     },
     "metadata": {},
     "output_type": "display_data"
    },
    {
     "name": "stdout",
     "output_type": "stream",
     "text": [
      "94/94 [==============================] - 1s 6ms/step\n",
      "219/219 [==============================] - 1s 7ms/step\n"
     ]
    }
   ],
   "source": [
    "history_1AIL, sampling_model_1AIL= model_training(32, 300, noise_xtrain_1AIL, x_test_scale_1AIL)\n",
    "plot_results(history_1AIL)\n",
    "decoded_reshaped_train_1AIL,reconstruct_train_1AIL, decoded_reshaped_test_1AIL, reconstruct_test_1AIL =  reconstruct(noise_xtrain_1AIL,\n",
    "                                                                                                                    x_test_scale_1AIL,\n",
    "                                                                                                                    sampling_model_1AIL,\n",
    "                                                                                                                    x_train_orig_1AIL,\n",
    "                                                                                                                    x_test_orig_1AIL)\n"
   ]
  },
  {
   "cell_type": "code",
   "execution_count": 28,
   "id": "3c84e26a-5394-41ee-baa1-8cd1473d8a6b",
   "metadata": {},
   "outputs": [
    {
     "name": "stdout",
     "output_type": "stream",
     "text": [
      "> spearman corelation coefficients:\n",
      "  train set: 0.998\n",
      "  test set: 0.988\n"
     ]
    }
   ],
   "source": [
    "spr = spearman_corr(x_train_orig_1AIL, reconstruct_train_1AIL)\n",
    "spr_test = spearman_corr(x_test_orig_1AIL, reconstruct_test_1AIL)\n",
    "print(\"> spearman corelation coefficients:\\n  train set: %.3f\\n  test set: %.3f\" % (spr, spr_test))"
   ]
  },
  {
   "cell_type": "markdown",
   "id": "560ba8a9-a161-4a02-b591-a04ec38b6e97",
   "metadata": {},
   "source": [
    "The correlation on the test set is slightly lower than on the training set, indicating that the model generalizes well but experiences a slight performance drop on the test data. "
   ]
  },
  {
   "cell_type": "code",
   "execution_count": 30,
   "id": "95acf17e-0711-4528-8c3a-d7b0d5b910bc",
   "metadata": {},
   "outputs": [],
   "source": [
    "generate_pdb(align_pdb_1AIL, decoded_reshaped_test_1AIL,M_1AIL)"
   ]
  },
  {
   "cell_type": "code",
   "execution_count": 46,
   "id": "42dfc1bb-7dc2-4047-848f-e20b55e04a64",
   "metadata": {},
   "outputs": [
    {
     "name": "stdout",
     "output_type": "stream",
     "text": [
      "> Average RMSD: 2.743 Å\n",
      "RMSD values saved to: C:\\Users\\90535\\proteins\\1AIL\\rmsd_1AIL.dat\n"
     ]
    },
    {
     "data": {
      "text/plain": [
       "'C:\\\\Users\\\\90535\\\\proteins\\\\1AIL\\\\rmsd_1AIL.dat'"
      ]
     },
     "execution_count": 46,
     "metadata": {},
     "output_type": "execute_result"
    }
   ],
   "source": [
    "RMSD_calculation(pdb_file_1AIL, \"rmsd_1AIL.dat\")\n"
   ]
  },
  {
   "cell_type": "code",
   "execution_count": 5,
   "id": "d250d15f-7bce-4170-a10e-a09e1d21a071",
   "metadata": {},
   "outputs": [],
   "source": [
    "rmsd_1AIL = np.loadtxt(\"rmsd_1AIL.dat\")"
   ]
  },
  {
   "cell_type": "markdown",
   "id": "46748843-c6d6-4f92-8f85-05186e7f122f",
   "metadata": {},
   "source": [
    "## **1DTD**"
   ]
  },
  {
   "cell_type": "code",
   "execution_count": 6,
   "id": "9ace7c2d-6b36-4e51-bfa1-296626da3d3c",
   "metadata": {},
   "outputs": [
    {
     "name": "stdout",
     "output_type": "stream",
     "text": [
      "Current working directory: C:\\Users\\90535\\proteins\\1DTD\n"
     ]
    }
   ],
   "source": [
    "\n",
    "new_directory_1DTD = \"C://Users//90535//proteins//1DTD\"\n",
    "\n",
    "os.chdir(new_directory_1DTD)\n",
    "\n",
    "print(\"Current working directory:\", os.getcwd())\n"
   ]
  },
  {
   "cell_type": "code",
   "execution_count": 48,
   "id": "10abaef7-93df-47ed-89b5-8eeca9da9289",
   "metadata": {},
   "outputs": [],
   "source": [
    "pdb_file_1DTD = convert_pdb_file(\"1dtd_B_prod_R1_fit.xtc\", \"1dtd_B.pdb\")"
   ]
  },
  {
   "cell_type": "code",
   "execution_count": 49,
   "id": "b852ede6-0ded-4f1c-a85a-2843b5b16157",
   "metadata": {},
   "outputs": [
    {
     "name": "stdout",
     "output_type": "stream",
     "text": [
      "> molecule has 10001 conformations\n",
      "> selected 243 atoms\n",
      "> align conformations ...\n",
      "  alignment completed, takes 2773.93 s\n"
     ]
    }
   ],
   "source": [
    "M2, crds_1DTD = atom_select(pdb_file_1DTD)\n",
    "#aligning \n",
    "print(\"> align conformations ...\")\n",
    "time0 = time.time()\n",
    "M_1DTD , align_pdb_1DTD = align(M2, pdb_file_1DTD)\n",
    "print(\"  alignment completed, takes %.2f s\" % (time.time()-time0))"
   ]
  },
  {
   "cell_type": "code",
   "execution_count": 50,
   "id": "6bf927d6-2094-41d3-8942-f6c83b649dae",
   "metadata": {},
   "outputs": [],
   "source": [
    "x_train_1DTD, x_test_1DTD = train_test_data(M_1DTD,crds_1DTD)\n",
    "x_train_orig_1DTD, x_test_orig_1DTD = save_load_data(align_pdb_1DTD, x_train_1DTD, x_test_1DTD)\n",
    "x_train_scale_1DTD, x_test_scale_1DTD = scalling_normalization(x_train_orig_1DTD, x_test_orig_1DTD)\n",
    "noise_xtrain_1DTD = data_augmentation(x_train_scale_1DTD, 0.01)"
   ]
  },
  {
   "cell_type": "code",
   "execution_count": 51,
   "id": "fed41a2e-6431-4a29-9018-420d8b35e0a1",
   "metadata": {
    "scrolled": true
   },
   "outputs": [
    {
     "name": "stdout",
     "output_type": "stream",
     "text": [
      "Epoch 1/200\n",
      "94/94 [==============================] - 7s 41ms/step - loss: 0.6337 - mean_squared_error: 0.0225 - val_loss: 0.3511 - val_mean_squared_error: 0.0510\n",
      "Epoch 2/200\n",
      "94/94 [==============================] - 3s 32ms/step - loss: 0.2032 - mean_squared_error: 0.0215 - val_loss: 0.1139 - val_mean_squared_error: 0.0516\n",
      "Epoch 3/200\n",
      "94/94 [==============================] - 3s 34ms/step - loss: 0.0618 - mean_squared_error: 0.0211 - val_loss: 0.0412 - val_mean_squared_error: 0.0494\n",
      "Epoch 4/200\n",
      "94/94 [==============================] - 3s 35ms/step - loss: 0.0214 - mean_squared_error: 0.0203 - val_loss: 0.0226 - val_mean_squared_error: 0.0488\n",
      "Epoch 5/200\n",
      "94/94 [==============================] - 3s 36ms/step - loss: 0.0117 - mean_squared_error: 0.0198 - val_loss: 0.0190 - val_mean_squared_error: 0.0493\n",
      "Epoch 6/200\n",
      "94/94 [==============================] - 3s 35ms/step - loss: 0.0097 - mean_squared_error: 0.0195 - val_loss: 0.0187 - val_mean_squared_error: 0.0503\n",
      "Epoch 7/200\n",
      "94/94 [==============================] - 3s 35ms/step - loss: 0.0095 - mean_squared_error: 0.0196 - val_loss: 0.0180 - val_mean_squared_error: 0.0479\n",
      "Epoch 8/200\n",
      "94/94 [==============================] - 3s 35ms/step - loss: 0.0093 - mean_squared_error: 0.0192 - val_loss: 0.0182 - val_mean_squared_error: 0.0480\n",
      "Epoch 9/200\n",
      "94/94 [==============================] - 3s 35ms/step - loss: 0.0092 - mean_squared_error: 0.0188 - val_loss: 0.0181 - val_mean_squared_error: 0.0481\n",
      "Epoch 10/200\n",
      "94/94 [==============================] - 3s 35ms/step - loss: 0.0092 - mean_squared_error: 0.0186 - val_loss: 0.0180 - val_mean_squared_error: 0.0467\n",
      "Epoch 11/200\n",
      "94/94 [==============================] - 3s 35ms/step - loss: 0.0091 - mean_squared_error: 0.0184 - val_loss: 0.0180 - val_mean_squared_error: 0.0470\n",
      "Epoch 12/200\n",
      "94/94 [==============================] - 3s 35ms/step - loss: 0.0090 - mean_squared_error: 0.0182 - val_loss: 0.0184 - val_mean_squared_error: 0.0495\n",
      "Epoch 13/200\n",
      "94/94 [==============================] - 3s 34ms/step - loss: 0.0090 - mean_squared_error: 0.0182 - val_loss: 0.0176 - val_mean_squared_error: 0.0464\n",
      "Epoch 14/200\n",
      "94/94 [==============================] - 3s 35ms/step - loss: 0.0090 - mean_squared_error: 0.0180 - val_loss: 0.0175 - val_mean_squared_error: 0.0462\n",
      "Epoch 15/200\n",
      "94/94 [==============================] - 3s 35ms/step - loss: 0.0089 - mean_squared_error: 0.0179 - val_loss: 0.0172 - val_mean_squared_error: 0.0458\n",
      "Epoch 16/200\n",
      "94/94 [==============================] - 3s 34ms/step - loss: 0.0089 - mean_squared_error: 0.0178 - val_loss: 0.0173 - val_mean_squared_error: 0.0464\n",
      "Epoch 17/200\n",
      "94/94 [==============================] - 3s 36ms/step - loss: 0.0088 - mean_squared_error: 0.0176 - val_loss: 0.0172 - val_mean_squared_error: 0.0457\n",
      "Epoch 18/200\n",
      "94/94 [==============================] - 3s 35ms/step - loss: 0.0088 - mean_squared_error: 0.0175 - val_loss: 0.0174 - val_mean_squared_error: 0.0457\n",
      "Epoch 19/200\n",
      "94/94 [==============================] - 3s 35ms/step - loss: 0.0088 - mean_squared_error: 0.0172 - val_loss: 0.0179 - val_mean_squared_error: 0.0477\n",
      "Epoch 20/200\n",
      "94/94 [==============================] - 3s 34ms/step - loss: 0.0088 - mean_squared_error: 0.0171 - val_loss: 0.0186 - val_mean_squared_error: 0.0471\n",
      "Epoch 21/200\n",
      "94/94 [==============================] - 3s 36ms/step - loss: 0.0087 - mean_squared_error: 0.0169 - val_loss: 0.0172 - val_mean_squared_error: 0.0448\n",
      "Epoch 22/200\n",
      "94/94 [==============================] - 3s 35ms/step - loss: 0.0087 - mean_squared_error: 0.0168 - val_loss: 0.0174 - val_mean_squared_error: 0.0462\n",
      "Epoch 23/200\n",
      "94/94 [==============================] - 3s 35ms/step - loss: 0.0087 - mean_squared_error: 0.0167 - val_loss: 0.0179 - val_mean_squared_error: 0.0472\n",
      "Epoch 24/200\n",
      "94/94 [==============================] - 3s 35ms/step - loss: 0.0087 - mean_squared_error: 0.0166 - val_loss: 0.0175 - val_mean_squared_error: 0.0448\n",
      "Epoch 25/200\n",
      "94/94 [==============================] - 3s 35ms/step - loss: 0.0086 - mean_squared_error: 0.0165 - val_loss: 0.0173 - val_mean_squared_error: 0.0452\n",
      "Epoch 26/200\n",
      "94/94 [==============================] - 3s 34ms/step - loss: 0.0086 - mean_squared_error: 0.0165 - val_loss: 0.0175 - val_mean_squared_error: 0.0453\n",
      "Epoch 27/200\n",
      "94/94 [==============================] - 3s 36ms/step - loss: 0.0086 - mean_squared_error: 0.0165 - val_loss: 0.0175 - val_mean_squared_error: 0.0449\n",
      "Epoch 28/200\n",
      "94/94 [==============================] - 3s 35ms/step - loss: 0.0086 - mean_squared_error: 0.0165 - val_loss: 0.0173 - val_mean_squared_error: 0.0455\n",
      "Epoch 29/200\n",
      "94/94 [==============================] - 3s 35ms/step - loss: 0.0086 - mean_squared_error: 0.0164 - val_loss: 0.0173 - val_mean_squared_error: 0.0452\n",
      "Epoch 30/200\n",
      "94/94 [==============================] - 3s 35ms/step - loss: 0.0085 - mean_squared_error: 0.0163 - val_loss: 0.0173 - val_mean_squared_error: 0.0455\n",
      "Epoch 31/200\n",
      "94/94 [==============================] - 3s 36ms/step - loss: 0.0086 - mean_squared_error: 0.0164 - val_loss: 0.0171 - val_mean_squared_error: 0.0452\n",
      "Epoch 32/200\n",
      "94/94 [==============================] - 3s 35ms/step - loss: 0.0086 - mean_squared_error: 0.0163 - val_loss: 0.0172 - val_mean_squared_error: 0.0446\n",
      "Epoch 33/200\n",
      "94/94 [==============================] - 3s 35ms/step - loss: 0.0085 - mean_squared_error: 0.0161 - val_loss: 0.0172 - val_mean_squared_error: 0.0450\n",
      "Epoch 34/200\n",
      "94/94 [==============================] - 3s 37ms/step - loss: 0.0085 - mean_squared_error: 0.0160 - val_loss: 0.0171 - val_mean_squared_error: 0.0441\n",
      "Epoch 35/200\n",
      "94/94 [==============================] - 3s 36ms/step - loss: 0.0084 - mean_squared_error: 0.0159 - val_loss: 0.0172 - val_mean_squared_error: 0.0447\n",
      "Epoch 36/200\n",
      "94/94 [==============================] - 3s 36ms/step - loss: 0.0085 - mean_squared_error: 0.0158 - val_loss: 0.0177 - val_mean_squared_error: 0.0462\n",
      "Epoch 37/200\n",
      "94/94 [==============================] - 3s 37ms/step - loss: 0.0085 - mean_squared_error: 0.0157 - val_loss: 0.0172 - val_mean_squared_error: 0.0448\n",
      "Epoch 38/200\n",
      "94/94 [==============================] - 3s 37ms/step - loss: 0.0084 - mean_squared_error: 0.0156 - val_loss: 0.0170 - val_mean_squared_error: 0.0444\n",
      "Epoch 39/200\n",
      "94/94 [==============================] - 3s 36ms/step - loss: 0.0084 - mean_squared_error: 0.0156 - val_loss: 0.0170 - val_mean_squared_error: 0.0438\n",
      "Epoch 40/200\n",
      "94/94 [==============================] - 3s 37ms/step - loss: 0.0084 - mean_squared_error: 0.0157 - val_loss: 0.0176 - val_mean_squared_error: 0.0458\n",
      "Epoch 41/200\n",
      "94/94 [==============================] - 4s 38ms/step - loss: 0.0084 - mean_squared_error: 0.0156 - val_loss: 0.0173 - val_mean_squared_error: 0.0451\n",
      "Epoch 42/200\n",
      "94/94 [==============================] - 4s 38ms/step - loss: 0.0084 - mean_squared_error: 0.0157 - val_loss: 0.0173 - val_mean_squared_error: 0.0449\n",
      "Epoch 43/200\n",
      "94/94 [==============================] - 3s 37ms/step - loss: 0.0085 - mean_squared_error: 0.0157 - val_loss: 0.0172 - val_mean_squared_error: 0.0440\n",
      "Epoch 44/200\n",
      "94/94 [==============================] - 3s 37ms/step - loss: 0.0083 - mean_squared_error: 0.0155 - val_loss: 0.0171 - val_mean_squared_error: 0.0442\n",
      "Epoch 45/200\n",
      "94/94 [==============================] - 4s 37ms/step - loss: 0.0083 - mean_squared_error: 0.0155 - val_loss: 0.0174 - val_mean_squared_error: 0.0455\n",
      "Epoch 46/200\n",
      "94/94 [==============================] - 4s 38ms/step - loss: 0.0084 - mean_squared_error: 0.0156 - val_loss: 0.0171 - val_mean_squared_error: 0.0441\n",
      "Epoch 47/200\n",
      "94/94 [==============================] - 4s 39ms/step - loss: 0.0084 - mean_squared_error: 0.0155 - val_loss: 0.0174 - val_mean_squared_error: 0.0445\n",
      "Epoch 48/200\n",
      "94/94 [==============================] - 4s 38ms/step - loss: 0.0083 - mean_squared_error: 0.0154 - val_loss: 0.0170 - val_mean_squared_error: 0.0445\n"
     ]
    },
    {
     "data": {
      "image/png": "[encoded data removed]",
      "text/plain": [
       "<Figure size 640x480 with 1 Axes>"
      ]
     },
     "metadata": {},
     "output_type": "display_data"
    },
    {
     "name": "stdout",
     "output_type": "stream",
     "text": [
      "94/94 [==============================] - 1s 6ms/step\n",
      "219/219 [==============================] - 1s 6ms/step\n"
     ]
    }
   ],
   "source": [
    "history_1DTD, sampling_model_1DTD = model_training(32, 200, noise_xtrain_1DTD, x_test_scale_1DTD)\n",
    "plot_results(history_1DTD)\n",
    "decoded_reshaped_train_1DTD,reconstruct_train_1DTD, decoded_reshaped_test_1DTD, reconstruct_test_1DTD =  reconstruct(noise_xtrain_1DTD,\n",
    "                                                                                                                     x_test_scale_1DTD,\n",
    "                                                                                                                     sampling_model_1DTD, \n",
    "                                                                                                                    x_train_orig_1DTD,\n",
    "                                                                                                                    x_test_orig_1DTD)\n"
   ]
  },
  {
   "cell_type": "code",
   "execution_count": 52,
   "id": "d38da060-7ecd-4931-8211-10fdf2ca35d6",
   "metadata": {},
   "outputs": [
    {
     "name": "stdout",
     "output_type": "stream",
     "text": [
      "> spearman corelation coefficients:\n",
      "  train set: 0.998\n",
      "  test set: 0.995\n"
     ]
    }
   ],
   "source": [
    "spr_1DTD = spearman_corr(x_train_orig_1DTD, reconstruct_train_1DTD)\n",
    "spr_test_1DTD = spearman_corr(x_test_orig_1DTD, reconstruct_test_1DTD)\n",
    "print(\"> spearman corelation coefficients:\\n  train set: %.3f\\n  test set: %.3f\" % (spr_1DTD, spr_test_1DTD))"
   ]
  },
  {
   "cell_type": "markdown",
   "id": "15e0938f-6645-462d-a4f5-4dcaa69ba976",
   "metadata": {},
   "source": [
    "High correlation was observed in both the training and test sets. Considering the RMSD values of this protein, the model produced one of the most successful results, effectively capturing both sequential relationships and atomic-level details."
   ]
  },
  {
   "cell_type": "code",
   "execution_count": 53,
   "id": "ab3b3f18-0045-4f83-8123-c25769be714c",
   "metadata": {},
   "outputs": [],
   "source": [
    "generate_pdb(align_pdb_1DTD, decoded_reshaped_test_1DTD, M_1DTD)"
   ]
  },
  {
   "cell_type": "code",
   "execution_count": 54,
   "id": "46de8933-37f2-4e6d-b997-97ccdf26db24",
   "metadata": {},
   "outputs": [
    {
     "name": "stdout",
     "output_type": "stream",
     "text": [
      "> Average RMSD: 1.302 Å\n",
      "RMSD values saved to: C:\\Users\\90535\\proteins\\1DTD\\rmsd_1DTD.dat\n"
     ]
    },
    {
     "data": {
      "text/plain": [
       "'C:\\\\Users\\\\90535\\\\proteins\\\\1DTD\\\\rmsd_1DTD.dat'"
      ]
     },
     "execution_count": 54,
     "metadata": {},
     "output_type": "execute_result"
    }
   ],
   "source": [
    "RMSD_calculation(pdb_file_1DTD, \"rmsd_1DTD.dat\")"
   ]
  },
  {
   "cell_type": "code",
   "execution_count": 8,
   "id": "8273d37d-591b-47bb-8dea-ce891602baea",
   "metadata": {},
   "outputs": [],
   "source": [
    "rmsd_1DTD = np.loadtxt(\"rmsd_1DTD.dat\")"
   ]
  },
  {
   "cell_type": "markdown",
   "id": "d555d685-8b33-4182-806b-802f2af171de",
   "metadata": {},
   "source": [
    "## **1BQ8**"
   ]
  },
  {
   "cell_type": "code",
   "execution_count": 9,
   "id": "596077f6-7755-493b-a2a1-1f9d0470133f",
   "metadata": {},
   "outputs": [
    {
     "name": "stdout",
     "output_type": "stream",
     "text": [
      "Current working directory: C:\\Users\\90535\\proteins\\1BQ8\n"
     ]
    }
   ],
   "source": [
    "new_directory_1BQ8 = \"C://Users//90535//proteins//1BQ8\"\n",
    "\n",
    "os.chdir(new_directory_1BQ8)\n",
    "\n",
    "print(\"Current working directory:\", os.getcwd())\n"
   ]
  },
  {
   "cell_type": "code",
   "execution_count": 56,
   "id": "972f4de5-4406-45be-a07e-eba3b04e84be",
   "metadata": {},
   "outputs": [],
   "source": [
    "pdb_file_1BQ8 = convert_pdb_file(\"1bq8_A_prod_R1_fit.xtc\", \"1bq8_A.pdb\")"
   ]
  },
  {
   "cell_type": "code",
   "execution_count": 57,
   "id": "f144df9a-9c41-442c-960c-4db22210edb3",
   "metadata": {},
   "outputs": [
    {
     "name": "stdout",
     "output_type": "stream",
     "text": [
      "> molecule has 10001 conformations\n",
      "> selected 215 atoms\n",
      "> align conformations ...\n",
      "  alignment completed, takes 2341.48 s\n"
     ]
    }
   ],
   "source": [
    "M3, crds_1BQ8 = atom_select(pdb_file_1BQ8)\n",
    "print(\"> align conformations ...\")\n",
    "time0 = time.time()\n",
    "M_1BQ8,align_pdb_1BQ8  = align(M3, pdb_file_1BQ8)\n",
    "print(\"  alignment completed, takes %.2f s\" % (time.time()-time0))"
   ]
  },
  {
   "cell_type": "code",
   "execution_count": 58,
   "id": "70a5ed1f-918a-486a-a61e-ec6b07bc91df",
   "metadata": {},
   "outputs": [],
   "source": [
    "x_train_1BQ8, x_test_1BQ8 = train_test_data(M_1BQ8,crds_1BQ8)\n",
    "x_train_orig_1BQ8, x_test_orig_1BQ8 = save_load_data(align_pdb_1BQ8,x_train_1BQ8, x_test_1BQ8)\n",
    "x_train_scale_1BQ8, x_test_scale_1BQ8 = scalling_normalization(x_train_orig_1BQ8, x_test_orig_1BQ8)\n",
    "noise_xtrain_1BQ8 = data_augmentation(x_train_scale_1BQ8, 0.01)"
   ]
  },
  {
   "cell_type": "code",
   "execution_count": 59,
   "id": "061a8b8b-d20f-4897-a18b-f4c823eadb19",
   "metadata": {
    "scrolled": true
   },
   "outputs": [
    {
     "name": "stdout",
     "output_type": "stream",
     "text": [
      "Epoch 1/200\n",
      "94/94 [==============================] - 7s 41ms/step - loss: 0.6372 - mean_squared_error: 0.0234 - val_loss: 0.3435 - val_mean_squared_error: 0.0209\n",
      "Epoch 2/200\n",
      "94/94 [==============================] - 3s 34ms/step - loss: 0.2037 - mean_squared_error: 0.0210 - val_loss: 0.1043 - val_mean_squared_error: 0.0199\n",
      "Epoch 3/200\n",
      "94/94 [==============================] - 3s 34ms/step - loss: 0.0613 - mean_squared_error: 0.0196 - val_loss: 0.0322 - val_mean_squared_error: 0.0199\n",
      "Epoch 4/200\n",
      "94/94 [==============================] - 3s 34ms/step - loss: 0.0210 - mean_squared_error: 0.0193 - val_loss: 0.0137 - val_mean_squared_error: 0.0196\n",
      "Epoch 5/200\n",
      "94/94 [==============================] - 3s 37ms/step - loss: 0.0113 - mean_squared_error: 0.0189 - val_loss: 0.0099 - val_mean_squared_error: 0.0197\n",
      "Epoch 6/200\n",
      "94/94 [==============================] - 3s 37ms/step - loss: 0.0095 - mean_squared_error: 0.0186 - val_loss: 0.0092 - val_mean_squared_error: 0.0194\n",
      "Epoch 7/200\n",
      "94/94 [==============================] - 3s 35ms/step - loss: 0.0090 - mean_squared_error: 0.0182 - val_loss: 0.0091 - val_mean_squared_error: 0.0191\n",
      "Epoch 8/200\n",
      "94/94 [==============================] - 3s 34ms/step - loss: 0.0089 - mean_squared_error: 0.0177 - val_loss: 0.0090 - val_mean_squared_error: 0.0189\n",
      "Epoch 9/200\n",
      "94/94 [==============================] - 3s 34ms/step - loss: 0.0087 - mean_squared_error: 0.0175 - val_loss: 0.0089 - val_mean_squared_error: 0.0186\n",
      "Epoch 10/200\n",
      "94/94 [==============================] - 3s 34ms/step - loss: 0.0088 - mean_squared_error: 0.0175 - val_loss: 0.0091 - val_mean_squared_error: 0.0189\n",
      "Epoch 11/200\n",
      "94/94 [==============================] - 3s 34ms/step - loss: 0.0087 - mean_squared_error: 0.0173 - val_loss: 0.0089 - val_mean_squared_error: 0.0182\n",
      "Epoch 12/200\n",
      "94/94 [==============================] - 3s 34ms/step - loss: 0.0087 - mean_squared_error: 0.0171 - val_loss: 0.0088 - val_mean_squared_error: 0.0180\n",
      "Epoch 13/200\n",
      "94/94 [==============================] - 3s 34ms/step - loss: 0.0086 - mean_squared_error: 0.0167 - val_loss: 0.0090 - val_mean_squared_error: 0.0182\n",
      "Epoch 14/200\n",
      "94/94 [==============================] - 3s 34ms/step - loss: 0.0085 - mean_squared_error: 0.0162 - val_loss: 0.0089 - val_mean_squared_error: 0.0179\n",
      "Epoch 15/200\n",
      "94/94 [==============================] - 3s 34ms/step - loss: 0.0083 - mean_squared_error: 0.0156 - val_loss: 0.0088 - val_mean_squared_error: 0.0177\n",
      "Epoch 16/200\n",
      "94/94 [==============================] - 3s 34ms/step - loss: 0.0082 - mean_squared_error: 0.0154 - val_loss: 0.0092 - val_mean_squared_error: 0.0184\n",
      "Epoch 17/200\n",
      "94/94 [==============================] - 3s 34ms/step - loss: 0.0082 - mean_squared_error: 0.0153 - val_loss: 0.0091 - val_mean_squared_error: 0.0183\n",
      "Epoch 18/200\n",
      "94/94 [==============================] - 3s 37ms/step - loss: 0.0082 - mean_squared_error: 0.0152 - val_loss: 0.0089 - val_mean_squared_error: 0.0178\n",
      "Epoch 19/200\n",
      "94/94 [==============================] - 3s 34ms/step - loss: 0.0080 - mean_squared_error: 0.0150 - val_loss: 0.0089 - val_mean_squared_error: 0.0176\n",
      "Epoch 20/200\n",
      "94/94 [==============================] - 3s 34ms/step - loss: 0.0081 - mean_squared_error: 0.0150 - val_loss: 0.0088 - val_mean_squared_error: 0.0175\n",
      "Epoch 21/200\n",
      "94/94 [==============================] - 3s 34ms/step - loss: 0.0080 - mean_squared_error: 0.0149 - val_loss: 0.0090 - val_mean_squared_error: 0.0180\n",
      "Epoch 22/200\n",
      "94/94 [==============================] - 3s 34ms/step - loss: 0.0081 - mean_squared_error: 0.0150 - val_loss: 0.0089 - val_mean_squared_error: 0.0176\n",
      "Epoch 23/200\n",
      "94/94 [==============================] - 3s 34ms/step - loss: 0.0080 - mean_squared_error: 0.0149 - val_loss: 0.0089 - val_mean_squared_error: 0.0177\n",
      "Epoch 24/200\n",
      "94/94 [==============================] - 3s 34ms/step - loss: 0.0080 - mean_squared_error: 0.0148 - val_loss: 0.0088 - val_mean_squared_error: 0.0175\n",
      "Epoch 25/200\n",
      "94/94 [==============================] - 3s 35ms/step - loss: 0.0080 - mean_squared_error: 0.0147 - val_loss: 0.0089 - val_mean_squared_error: 0.0178\n",
      "Epoch 26/200\n",
      "94/94 [==============================] - 3s 34ms/step - loss: 0.0080 - mean_squared_error: 0.0148 - val_loss: 0.0089 - val_mean_squared_error: 0.0176\n",
      "Epoch 27/200\n",
      "94/94 [==============================] - 3s 34ms/step - loss: 0.0080 - mean_squared_error: 0.0148 - val_loss: 0.0089 - val_mean_squared_error: 0.0175\n",
      "Epoch 28/200\n",
      "94/94 [==============================] - 3s 34ms/step - loss: 0.0080 - mean_squared_error: 0.0148 - val_loss: 0.0088 - val_mean_squared_error: 0.0174\n",
      "Epoch 29/200\n",
      "94/94 [==============================] - 3s 34ms/step - loss: 0.0080 - mean_squared_error: 0.0148 - val_loss: 0.0089 - val_mean_squared_error: 0.0176\n",
      "Epoch 30/200\n",
      "94/94 [==============================] - 3s 35ms/step - loss: 0.0080 - mean_squared_error: 0.0147 - val_loss: 0.0088 - val_mean_squared_error: 0.0174\n"
     ]
    },
    {
     "data": {
      "image/png": "[encoded data removed]",
      "text/plain": [
       "<Figure size 640x480 with 1 Axes>"
      ]
     },
     "metadata": {},
     "output_type": "display_data"
    },
    {
     "name": "stdout",
     "output_type": "stream",
     "text": [
      "94/94 [==============================] - 1s 5ms/step\n",
      "219/219 [==============================] - 1s 5ms/step\n"
     ]
    }
   ],
   "source": [
    "history_1BQ8, sampling_model_1BQ8 = model_training(32, 200, noise_xtrain_1BQ8, x_test_scale_1BQ8)\n",
    "plot_results(history_1BQ8)\n",
    "decoded_reshaped_train_1BQ8,reconstruct_train_1BQ8, decoded_reshaped_test_1BQ8, reconstruct_test_1BQ8 =  reconstruct(x_train_orig_1BQ8,\n",
    "                                                                                                                     x_test_orig_1BQ8,\n",
    "                                                                                                                    sampling_model_1BQ8,\n",
    "                                                                                                                    x_train_orig_1BQ8,\n",
    "                                                                                                                    x_test_orig_1BQ8)\n",
    "                                                                                                                    "
   ]
  },
  {
   "cell_type": "code",
   "execution_count": 60,
   "id": "c5a233dd-2245-4e7b-936e-2f832d69f61c",
   "metadata": {},
   "outputs": [
    {
     "name": "stdout",
     "output_type": "stream",
     "text": [
      "> spearman corelation coefficients:\n",
      "  train set: 0.998\n",
      "  test set: 0.996\n"
     ]
    }
   ],
   "source": [
    "spr_1BQ8 = spearman_corr(x_train_orig_1BQ8, reconstruct_train_1BQ8)\n",
    "spr_test_1BQ8 = spearman_corr(x_test_orig_1BQ8, reconstruct_test_1BQ8)\n",
    "print(\"> spearman corelation coefficients:\\n  train set: %.3f\\n  test set: %.3f\" % (spr_1BQ8, spr_test_1BQ8))"
   ]
  },
  {
   "cell_type": "markdown",
   "id": "28bc2c86-c0f9-4009-8881-5b96a0ce9f5e",
   "metadata": {},
   "source": [
    "The correlation on the test set is higher than on the training set. This may indicate overfitting, or it could suggest that the test data and training data are quite similar, or that the learned features align better with the test data."
   ]
  },
  {
   "cell_type": "code",
   "execution_count": 61,
   "id": "c886abd6-43f6-444c-9feb-6c2fa98a0c8f",
   "metadata": {},
   "outputs": [],
   "source": [
    "generate_pdb(align_pdb_1BQ8, decoded_reshaped_test_1BQ8, M_1BQ8)"
   ]
  },
  {
   "cell_type": "code",
   "execution_count": 62,
   "id": "d38085d3-c100-434b-9c00-02447ed2e2bc",
   "metadata": {},
   "outputs": [
    {
     "name": "stdout",
     "output_type": "stream",
     "text": [
      "> Average RMSD: 0.979 Å\n",
      "RMSD values saved to: C:\\Users\\90535\\proteins\\1BQ8\\rmsd_1BQ8.dat\n"
     ]
    },
    {
     "data": {
      "text/plain": [
       "'C:\\\\Users\\\\90535\\\\proteins\\\\1BQ8\\\\rmsd_1BQ8.dat'"
      ]
     },
     "execution_count": 62,
     "metadata": {},
     "output_type": "execute_result"
    }
   ],
   "source": [
    "RMSD_calculation(pdb_file_1BQ8, \"rmsd_1BQ8.dat\")"
   ]
  },
  {
   "cell_type": "code",
   "execution_count": 10,
   "id": "8fd4eefe-a4f4-4d0f-a107-dd49132c2eac",
   "metadata": {},
   "outputs": [],
   "source": [
    "rmsd_1BQ8 = np.loadtxt(\"rmsd_1BQ8.dat\")"
   ]
  },
  {
   "cell_type": "code",
   "execution_count": 11,
   "id": "b6f13860-5a90-450f-ab13-1920f4dab9f9",
   "metadata": {},
   "outputs": [
    {
     "name": "stderr",
     "output_type": "stream",
     "text": [
      "C:\\Users\\90535\\AppData\\Local\\Temp\\ipykernel_52476\\1820290416.py:2: MatplotlibDeprecationWarning: The 'labels' parameter of boxplot() has been renamed 'tick_labels' since Matplotlib 3.9; support for the old name will be dropped in 3.11.\n",
      "  plt.boxplot([rmsd_1, rmsd_2, rmsd_3], labels=[lab1, lab2, lab3])\n"
     ]
    },
    {
     "data": {
      "image/png": "[encoded data removed]",
      "text/plain": [
       "<Figure size 640x480 with 1 Axes>"
      ]
     },
     "metadata": {},
     "output_type": "display_data"
    }
   ],
   "source": [
    "box_plot(rmsd_1AIL, rmsd_1DTD, rmsd_1BQ8, '1AIL', '1DTD', '1BQ8')"
   ]
  },
  {
   "cell_type": "markdown",
   "id": "87ce208d-7130-489d-b6f3-393710c0f328",
   "metadata": {},
   "source": [
    "To analyze the results, the RMSD values between the dynamic structures obtained using the deep learning model and the original dynamic structures were calculated. This calculation was performed for all three proteins, and the results were presented in a box plot. For the **first protein**, most of the average RMSD values were observed to be concentrated between 2 and 3.5 Å. The graph also shows that there are numerous outliers above 5 Å. The presence of excessive outliers may indicate that certain conformations were not accurately predicted by the model or that the protein structure exhibits significant flexibility.\n",
    "The values for the **second protein** are mostly observed to vary between 1 and 1.7 Å, with fewer outliers compared to the first protein. Therefore, it can be concluded that the dynamics of this protein were better captured by the model.\n",
    "For the **third protein**, the values generally range between 0.8 and 1.2 Å. The low RMSD values indicate that the protein dynamics were learned effectively by the model. However, this might suggest a low generalization capacity of the model due to overfitting, where it learned the specific structure of the protein too well."
   ]
  },
  {
   "cell_type": "markdown",
   "id": "74791b74-e4ff-432d-8ebe-c3e142e307a8",
   "metadata": {},
   "source": [
    "### **REFERENCES**"
   ]
  },
  {
   "cell_type": "markdown",
   "id": "30da7561-a8cf-42b0-af71-0a473506bd38",
   "metadata": {},
   "source": [
    "1. Zhu, J. J., Zhang, N. J., Wei, T., & Chen, H. F. (2023). Enhancing conformational sampling for intrinsically disordered and ordered proteins by Variational autoencoder. International Journal of Molecular Sciences, 24(8), 6896.\n",
    "2. Gupta, A., Dey, S., Hicks, A., & Zhou, H. X. (2022). Artificial intelligence guided conformational mining of intrinsically disordered proteins. Communications biology, 5(1), 610.\n",
    "3. Janson, G., Valdes-Garcia, G., Heo, L., & Feig, M. (2023). Direct generation of protein conformational ensembles via machine learning. Nature Communications, 14(1), 774."
   ]
  }
 ],
 "metadata": {
  "kernelspec": {
   "display_name": "Python 3 (ipykernel)",
   "language": "python",
   "name": "python3"
  },
  "language_info": {
   "codemirror_mode": {
    "name": "ipython",
    "version": 3
   },
   "file_extension": ".py",
   "mimetype": "text/x-python",
   "name": "python",
   "nbconvert_exporter": "python",
   "pygments_lexer": "ipython3",
   "version": "3.10.15"
  }
 },
 "nbformat": 4,
 "nbformat_minor": 5
}
